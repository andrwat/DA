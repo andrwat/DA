{
 "cells": [
  {
   "cell_type": "code",
   "execution_count": 2,
   "metadata": {
    "collapsed": false
   },
   "outputs": [],
   "source": [
    "import numpy as np\n",
    "from scipy.cluster.vq import vq, kmeans, whiten\n",
    "import matplotlib as mpl\n",
    "import csv\n",
    "import random\n",
    "import os, sys\n",
    "import csv\n",
    "import pandas as pd\n",
    "import matplotlib.pyplot as plt\n",
    "import scipy\n",
    "import pprint"
   ]
  },
  {
   "cell_type": "code",
   "execution_count": 3,
   "metadata": {
    "collapsed": true
   },
   "outputs": [],
   "source": [
    "%matplotlib tk"
   ]
  },
  {
   "cell_type": "code",
   "execution_count": 4,
   "metadata": {
    "collapsed": false
   },
   "outputs": [],
   "source": [
    "import sys\n",
    "sys.path.append(r'C:\\Users\\Roman\\Documents\\Visual Studio 2013\\Projects\\PassRate2\\PassRate2')\n",
    "import analysis as ann"
   ]
  },
  {
   "cell_type": "code",
   "execution_count": 36,
   "metadata": {
    "collapsed": false
   },
   "outputs": [
    {
     "name": "stdout",
     "output_type": "stream",
     "text": [
      "Automatic pdb calling has been turned OFF\n"
     ]
    }
   ],
   "source": [
    "reload(ann)\n",
    "ann.SplitSessionData.test()\n",
    "%pdb"
   ]
  },
  {
   "cell_type": "code",
   "execution_count": null,
   "metadata": {
    "collapsed": true
   },
   "outputs": [],
   "source": [
    "# csds2b == old\n",
    "# csds2a == new"
   ]
  },
  {
   "cell_type": "code",
   "execution_count": 8,
   "metadata": {
    "collapsed": false
   },
   "outputs": [],
   "source": [
    "reload(ann)\n",
    "csdsD = ann.CombinedSetup()\n",
    "csdsD.load_folder(r'data/Duncanset', duncan_sessions)\n",
    "#csdsg = csds2a # select this as global"
   ]
  },
  {
   "cell_type": "code",
   "execution_count": 5,
   "metadata": {
    "collapsed": false
   },
   "outputs": [
    {
     "name": "stdout",
     "output_type": "stream",
     "text": [
      "removed 2506\n"
     ]
    }
   ],
   "source": [
    "reload(ann)\n",
    "\n",
    "csdsg = ann.CombinedSetup.load_bymachine(2, massage=True)"
   ]
  },
  {
   "cell_type": "code",
   "execution_count": 171,
   "metadata": {
    "collapsed": false
   },
   "outputs": [],
   "source": [
    "reload(ann)\n",
    "csds1 = ann.CombinedSetup()\n",
    "csds1.load_folder(r'data/dataset1', dataset1_sessions)\n",
    "csdsg = csds1 # select this as global"
   ]
  },
  {
   "cell_type": "code",
   "execution_count": 14,
   "metadata": {
    "collapsed": false,
    "scrolled": true
   },
   "outputs": [
    {
     "ename": "NotImplementedError",
     "evalue": "tough luck",
     "output_type": "error",
     "traceback": [
      "\u001b[0;31m---------------------------------------------------------------------------\u001b[0m",
      "\u001b[0;31mNotImplementedError\u001b[0m                       Traceback (most recent call last)",
      "\u001b[0;32m<ipython-input-14-c4197bc70506>\u001b[0m in \u001b[0;36m<module>\u001b[0;34m()\u001b[0m\n\u001b[1;32m      1\u001b[0m \u001b[0mcsdsg\u001b[0m\u001b[0;34m.\u001b[0m\u001b[0mrandom\u001b[0m \u001b[0;34m=\u001b[0m \u001b[0mTrue\u001b[0m\u001b[0;34m\u001b[0m\u001b[0m\n\u001b[1;32m      2\u001b[0m \u001b[0mcsdsg\u001b[0m\u001b[0;34m.\u001b[0m\u001b[0mratio\u001b[0m \u001b[0;34m=\u001b[0m \u001b[0;36m0.5\u001b[0m\u001b[0;34m\u001b[0m\u001b[0m\n\u001b[0;32m----> 3\u001b[0;31m \u001b[0mcsdsg\u001b[0m\u001b[0;34m.\u001b[0m\u001b[0mpartition\u001b[0m\u001b[0;34m(\u001b[0m\u001b[0;34m)\u001b[0m\u001b[0;34m\u001b[0m\u001b[0m\n\u001b[0m\u001b[1;32m      4\u001b[0m \u001b[0mfirst\u001b[0m \u001b[0;34m=\u001b[0m \u001b[0mcsdsg\u001b[0m\u001b[0;34m.\u001b[0m\u001b[0mcalc\u001b[0m\u001b[0;34m(\u001b[0m\u001b[0mcsdsg\u001b[0m\u001b[0;34m.\u001b[0m\u001b[0mfirst\u001b[0m\u001b[0;34m)\u001b[0m\u001b[0;34m\u001b[0m\u001b[0m\n\u001b[1;32m      5\u001b[0m \u001b[0msecond\u001b[0m \u001b[0;34m=\u001b[0m \u001b[0mcsdsg\u001b[0m\u001b[0;34m.\u001b[0m\u001b[0mcalc\u001b[0m\u001b[0;34m(\u001b[0m\u001b[0mcsdsg\u001b[0m\u001b[0;34m.\u001b[0m\u001b[0msecond\u001b[0m\u001b[0;34m)\u001b[0m\u001b[0;34m\u001b[0m\u001b[0m\n",
      "\u001b[0;32m/Users/roman/PyBrowser/PassRate2/analysis.pyc\u001b[0m in \u001b[0;36mpartition\u001b[0;34m(self)\u001b[0m\n\u001b[1;32m   1217\u001b[0m \u001b[0;34m\u001b[0m\u001b[0m\n\u001b[1;32m   1218\u001b[0m         \u001b[0;31m# PaC_ttc\u001b[0m\u001b[0;34m\u001b[0m\u001b[0;34m\u001b[0m\u001b[0m\n\u001b[0;32m-> 1219\u001b[0;31m         \u001b[0mself\u001b[0m\u001b[0;34m.\u001b[0m\u001b[0msplit_PaC_ttc\u001b[0m\u001b[0;34m(\u001b[0m\u001b[0;34m)\u001b[0m\u001b[0;34m\u001b[0m\u001b[0m\n\u001b[0m\u001b[1;32m   1220\u001b[0m \u001b[0;34m\u001b[0m\u001b[0m\n\u001b[1;32m   1221\u001b[0m     \u001b[0;32mdef\u001b[0m \u001b[0msplit_PaC_ttc\u001b[0m\u001b[0;34m(\u001b[0m\u001b[0mself\u001b[0m\u001b[0;34m)\u001b[0m\u001b[0;34m:\u001b[0m\u001b[0;34m\u001b[0m\u001b[0m\n",
      "\u001b[0;32m/Users/roman/PyBrowser/PassRate2/analysis.pyc\u001b[0m in \u001b[0;36msplit_PaC_ttc\u001b[0;34m(self)\u001b[0m\n\u001b[1;32m   1231\u001b[0m                 \u001b[0msnd\u001b[0m\u001b[0;34m[\u001b[0m\u001b[0mk\u001b[0m\u001b[0;34m]\u001b[0m \u001b[0;34m=\u001b[0m \u001b[0mvals\u001b[0m\u001b[0;34m[\u001b[0m\u001b[0mcnt\u001b[0m\u001b[0;34m:\u001b[0m\u001b[0;34m]\u001b[0m\u001b[0;34m\u001b[0m\u001b[0m\n\u001b[1;32m   1232\u001b[0m             \u001b[0;32melse\u001b[0m\u001b[0;34m:\u001b[0m\u001b[0;34m\u001b[0m\u001b[0m\n\u001b[0;32m-> 1233\u001b[0;31m                 \u001b[0;32mraise\u001b[0m \u001b[0mNotImplementedError\u001b[0m\u001b[0;34m(\u001b[0m\u001b[0;34m'tough luck'\u001b[0m\u001b[0;34m)\u001b[0m\u001b[0;34m\u001b[0m\u001b[0m\n\u001b[0m\u001b[1;32m   1234\u001b[0m \u001b[0;34m\u001b[0m\u001b[0m\n\u001b[1;32m   1235\u001b[0m \u001b[0;34m\u001b[0m\u001b[0m\n",
      "\u001b[0;31mNotImplementedError\u001b[0m: tough luck"
     ]
    }
   ],
   "source": [
    "csdsg.random = True\n",
    "csdsg.ratio = 0.5\n",
    "csdsg.partition()\n",
    "first = csdsg.calc(csdsg.first)\n",
    "second = csdsg.calc(csdsg.second)"
   ]
  },
  {
   "cell_type": "code",
   "execution_count": 12,
   "metadata": {
    "collapsed": false,
    "scrolled": true
   },
   "outputs": [
    {
     "data": {
      "text/plain": [
       "998"
      ]
     },
     "execution_count": 12,
     "metadata": {},
     "output_type": "execute_result"
    }
   ],
   "source": [
    "PaC_slabels = csdsg.slabels_by()\n",
    "PaC_strokes = [x for x  in csdsg.all_data['strokes'] if x['slabel'] in PaC_slabels]\n",
    "len(PaC_strokes)"
   ]
  },
  {
   "cell_type": "markdown",
   "metadata": {},
   "source": [
    "# Segmented VHist comparison"
   ]
  },
  {
   "cell_type": "code",
   "execution_count": 17,
   "metadata": {
    "collapsed": false,
    "scrolled": false
   },
   "outputs": [
    {
     "data": {
      "text/plain": [
       "(<matplotlib.figure.Figure at 0x11280e910>,\n",
       " <matplotlib.axes._subplots.AxesSubplot at 0x1149e4950>)"
      ]
     },
     "execution_count": 17,
     "metadata": {},
     "output_type": "execute_result"
    }
   ],
   "source": [
    "reload(ann)\n",
    "\n",
    "x = ann.SegmentedVHistCompare(csdsg.sessions)\n",
    "comp = x.compare_new(csdsg.first, csdsg.second, PaC_slabels)\n",
    "\n",
    "ann.ParzenMethod.show_match(x.sum_results(comp))"
   ]
  },
  {
   "cell_type": "code",
   "execution_count": 70,
   "metadata": {
    "collapsed": false
   },
   "outputs": [],
   "source": [
    "for sg_ix in range(4):\n",
    "    dist_d = x.dist_by_seg(comp, sg_ix)\n",
    "    fig, ax = ann.ParzenMethod.show_match(dist_d)\n",
    "    ax.set_title(str(sg_ix))"
   ]
  },
  {
   "cell_type": "code",
   "execution_count": 286,
   "metadata": {
    "collapsed": false,
    "scrolled": true
   },
   "outputs": [],
   "source": [
    "# compare dragging, PaC and normal strokes\n",
    "\n",
    "non_PaC_strokes = [i for i in csdsg.all_data['strokes'] if not (i['slabel'] in PaC_slabels)]\n",
    "\n",
    "dragging_dats = [[i for i in csdsg.all_data['strokes'] if i['dragging'] == 0],\n",
    "                 [i for i in csdsg.all_data['strokes'] if i['dragging'] == 1]]\n",
    "\n",
    "dats_orig = [non_PaC_strokes, PaC_strokes]\n",
    "dats_orig = dragging_dats\n",
    "\n",
    "ln_fn = lambda i: sum(i['th']) / len(i['th'])\n",
    "\n",
    "dats = [np.array([ln_fn(s) for s in i]) for i in dats_orig]\n",
    "\n",
    "Bins = np.linspace(min(np.percentile(i, 5) for i in dats), max(np.percentile(i, 95) for i in dats), 25)\n",
    "Colors = ['green', 'red']\n",
    "\n",
    "for ix, d in enumerate(dats):\n",
    "    plt.hist(d, color=Colors[ix], alpha=0.4, \n",
    "             bins=Bins,\n",
    "             weights=np.zeros_like(d) + 1.0 / len(d))"
   ]
  },
  {
   "cell_type": "code",
   "execution_count": 63,
   "metadata": {
    "collapsed": false
   },
   "outputs": [],
   "source": [
    "reload(ann)\n",
    "ofs = ann.OrigFeatureSelection(csdsg)\n",
    "ofs.calc_xi2()"
   ]
  },
  {
   "cell_type": "code",
   "execution_count": 64,
   "metadata": {
    "collapsed": false
   },
   "outputs": [],
   "source": [
    "ofs.adjust_kde_selfsim([{'feats': ['csavg'],\n",
    "  'parts': [0.00060133650820303971,\n",
    "   0.0007833215982775278,\n",
    "   0.00032349522001775155,\n",
    "   0.00034506759375428853,\n",
    "   0.00040366240075948224],\n",
    "  'summed': 0.0024568833210120897},\n",
    " {'feats': ['cssd'],\n",
    "  'parts': [0.00033561964956469977,\n",
    "   0.00086417927821412,\n",
    "   0.00061607962108844441,\n",
    "   0.00074155715891304874,\n",
    "   0.00034713517642266477],\n",
    "  'summed': 0.0029045708842029777},\n",
    " {'feats': ['cswavg'],\n",
    "  'parts': [0.00057711149411467241,\n",
    "   0.0011182449994591114,\n",
    "   0.00028963147153511233,\n",
    "   0.00047457286806290751,\n",
    "   0.00046682421072461984],\n",
    "  'summed': 0.0029263850438964235},\n",
    " {'feats': ['thsd'],\n",
    "  'parts': [0.00047631239728945828,\n",
    "   0.00059180254935025615,\n",
    "   0.00099288636097946562,\n",
    "   0.00028980510658240514,\n",
    "   0.00073132002733697441],\n",
    "  'summed': 0.0030821264415385593},\n",
    " {'feats': ['thwsd'],\n",
    "  'parts': [0.00053190160466360704,\n",
    "   0.00082151412094240612,\n",
    "   0.00095957889889759741,\n",
    "   0.0004316085800371348,\n",
    "   0.00050505649846473686],\n",
    "  'summed': 0.0032496597030054822},\n",
    " {'feats': ['cdavg'],\n",
    "  'parts': [0.00077664386832393655,\n",
    "   0.0014516525854637191,\n",
    "   0.00035804939810735425,\n",
    "   0.00038784081412103965,\n",
    "   0.00045994192214619247],\n",
    "  'summed': 0.0034341285881622423},\n",
    " {'feats': ['wavg'],\n",
    "  'parts': [0.0010473779746051136,\n",
    "   0.0012930140819839158,\n",
    "   0.00042702594458266142,\n",
    "   0.00035666154247896933,\n",
    "   0.00096475861078654723],\n",
    "  'summed': 0.004088838154437207},\n",
    " {'feats': ['cswsd'],\n",
    "  'parts': [0.0004642224603722074,\n",
    "   0.0013599337390239475,\n",
    "   0.0010341750530787396,\n",
    "   0.00068340924241077727,\n",
    "   0.00064805396881803751],\n",
    "  'summed': 0.0041897944637037093},\n",
    " {'feats': ['wsd'],\n",
    "  'parts': [0.00070348546331925059,\n",
    "   0.0010017311493269307,\n",
    "   0.0013865224607810958,\n",
    "   0.00067834256654621475,\n",
    "   0.00049965627226619886],\n",
    "  'summed': 0.00426973791223969},\n",
    " {'feats': ['straight'],\n",
    "  'parts': [0.00070454532954756903,\n",
    "   0.00040724328083559995,\n",
    "   0.001082433906483038,\n",
    "   0.00087680800772320855,\n",
    "   0.001270263253014215],\n",
    "  'summed': 0.0043412937776036303},\n",
    " {'feats': ['vxwavg'],\n",
    "  'parts': [0.00044091021710688372,\n",
    "   0.0014317020318139772,\n",
    "   0.001972485177918933,\n",
    "   0.00074180656909912472,\n",
    "   0.00050178290798725807],\n",
    "  'summed': 0.0050886869039261772},\n",
    " {'feats': ['csd'],\n",
    "  'parts': [0.00064593674934740537,\n",
    "   0.0016891156222267859,\n",
    "   0.0016348439243927316,\n",
    "   0.00056685574371827946,\n",
    "   0.0007470767652439568],\n",
    "  'summed': 0.0052838288049291597},\n",
    " {'feats': ['vxavg'],\n",
    "  'parts': [0.00043558821607627389,\n",
    "   0.0015067991665159586,\n",
    "   0.0020174605365589284,\n",
    "   0.00084533388614690247,\n",
    "   0.00048869352094811603],\n",
    "  'summed': 0.0052938753262461793},\n",
    " {'feats': ['cwsd'],\n",
    "  'parts': [0.00061908477135264083,\n",
    "   0.0029585593731161243,\n",
    "   0.002080113719769345,\n",
    "   0.00016817891942653887,\n",
    "   0.00027159924418776118],\n",
    "  'summed': 0.0060975360278524102},\n",
    " {'feats': ['csmax'],\n",
    "  'parts': [0.00070139381534980029,\n",
    "   0.0018561220619920948,\n",
    "   0.0018755222576735215,\n",
    "   0.0012366845694381035,\n",
    "   0.00096805193692420385],\n",
    "  'summed': 0.0066377746413777243},\n",
    " {'feats': ['s'],\n",
    "  'parts': [0.00056639731471894909,\n",
    "   0.0012534949906474857,\n",
    "   0.0023588465115599662,\n",
    "   0.0016687786244466033,\n",
    "   0.0010901773600010931],\n",
    "  'summed': 0.0069376948013740967},\n",
    " {'feats': ['cdwsd'],\n",
    "  'parts': [0.00044882177005644913,\n",
    "   0.0033154054931834563,\n",
    "   0.0027223368537557047,\n",
    "   0.00047095077507953856,\n",
    "   0.00037995677538236777],\n",
    "  'summed': 0.0073374716674575154},\n",
    " {'feats': ['cdsd'],\n",
    "  'parts': [0.00049770071900703849,\n",
    "   0.0025395354582217183,\n",
    "   0.0026105364469278941,\n",
    "   0.00083855597246739648,\n",
    "   0.00085875272553909447],\n",
    "  'summed': 0.0073450813221631415},\n",
    " {'feats': ['cdwavg'],\n",
    "  'parts': [0.0011155570682846343,\n",
    "   0.0023126438107815518,\n",
    "   0.0014100007861530858,\n",
    "   0.0019058315663085495,\n",
    "   0.00098189714647868792],\n",
    "  'summed': 0.0077259303780065104},\n",
    " {'feats': ['wwavg'],\n",
    "  'parts': [0.0015398634064499972,\n",
    "   0.0014764757988081645,\n",
    "   0.0016834514755268753,\n",
    "   0.0011811433918230861,\n",
    "   0.0022920868703040593],\n",
    "  'summed': 0.008173020942912182},\n",
    " {'feats': ['vywavg'],\n",
    "  'parts': [0.0011385497688782761,\n",
    "   0.0010994748815851419,\n",
    "   0.0051960784353065528,\n",
    "   0.00074202663002308504,\n",
    "   0.00021634239899671212],\n",
    "  'summed': 0.0083924721147897677},\n",
    " {'feats': ['thavg'],\n",
    "  'parts': [0.0013897572211162134,\n",
    "   0.00099843588026246339,\n",
    "   0.0035848548469539711,\n",
    "   0.0017731138828873789,\n",
    "   0.00073938559786173924],\n",
    "  'summed': 0.0084855474290817662},\n",
    " {'feats': ['wwsd'],\n",
    "  'parts': [0.0013059649360193325,\n",
    "   0.0013880835830029732,\n",
    "   0.0034722767912545222,\n",
    "   0.001158246140561015,\n",
    "   0.0012828192963684154],\n",
    "  'summed': 0.0086073907472062582},\n",
    " {'feats': ['cavg'],\n",
    "  'parts': [0.0010900759901331203,\n",
    "   0.0019996509866219902,\n",
    "   0.0021140426286660545,\n",
    "   0.001552418185848769,\n",
    "   0.0019633435590983082],\n",
    "  'summed': 0.0087195313503682422},\n",
    " {'feats': ['vyavg'],\n",
    "  'parts': [0.00093375972910826567,\n",
    "   0.00077824752204224562,\n",
    "   0.005576146998247271,\n",
    "   0.00086715901890271549,\n",
    "   0.00058603139887318111],\n",
    "  'summed': 0.008741344667173679},\n",
    " {'feats': ['crange'],\n",
    "  'parts': [0.0013016309130252826,\n",
    "   0.0015462429393624981,\n",
    "   0.0028839328230908564,\n",
    "   0.0015857048827790027,\n",
    "   0.0014500555792393605],\n",
    "  'summed': 0.0087675671374970003},\n",
    " {'feats': ['csrange'],\n",
    "  'parts': [0.00107313425787418,\n",
    "   0.0022317481835802109,\n",
    "   0.0023546564103122331,\n",
    "   0.0018863217897184901,\n",
    "   0.0012696077981486529],\n",
    "  'summed': 0.0088154684396337668},\n",
    " {'feats': ['thmin'],\n",
    "  'parts': [0.0018895535991517206,\n",
    "   0.0021763011515329557,\n",
    "   0.0020390337467344707,\n",
    "   0.0020657080536606569,\n",
    "   0.00072352003875868795],\n",
    "  'summed': 0.0088941165898384911},\n",
    " {'feats': ['vavg'],\n",
    "  'parts': [0.0012796159339736621,\n",
    "   0.0030700202936918743,\n",
    "   0.0037978666261953152,\n",
    "   0.0002612882293354484,\n",
    "   0.00051464953892503518],\n",
    "  'summed': 0.0089234406221213348},\n",
    " {'feats': ['cmin'],\n",
    "  'parts': [0.0014832347363431411,\n",
    "   0.002326406873633835,\n",
    "   0.002791110853854304,\n",
    "   0.0016174154423503498,\n",
    "   0.00074505830573243508],\n",
    "  'summed': 0.0089632262119140656},\n",
    " {'feats': ['thwavg'],\n",
    "  'parts': [0.0017477704379519653,\n",
    "   0.00077151630418321635,\n",
    "   0.0040265954265237078,\n",
    "   0.0018085712338091941,\n",
    "   0.00061084183801348975],\n",
    "  'summed': 0.0089652952404815738},\n",
    " {'feats': ['cdmax'],\n",
    "  'parts': [0.0015016990558466363,\n",
    "   0.0018324299294539498,\n",
    "   0.0035426561158225355,\n",
    "   0.0014123624757656963,\n",
    "   0.0016100541491482481],\n",
    "  'summed': 0.0098992017260370671},\n",
    " {'feats': ['vwavg'],\n",
    "  'parts': [0.0022872764257416147,\n",
    "   0.0026669475111255501,\n",
    "   0.0037468928488254474,\n",
    "   0.00060411250851802366,\n",
    "   0.00092109143919564911],\n",
    "  'summed': 0.010226320733406284},\n",
    " {'feats': ['wmin'],\n",
    "  'parts': [0.00038657909996531924,\n",
    "   0.00019922251835049795,\n",
    "   0.0030771440985823862,\n",
    "   0.0057577225445274586,\n",
    "   0.0016757910901510919],\n",
    "  'summed': 0.011096459351576755},\n",
    " {'feats': ['cdmin'],\n",
    "  'parts': [0.0017485649085998397,\n",
    "   0.0022045423374916521,\n",
    "   0.0043874652512420793,\n",
    "   0.0012762439236256729,\n",
    "   0.0015093725002948649],\n",
    "  'summed': 0.011126188921254108},\n",
    " {'feats': ['cdrange'],\n",
    "  'parts': [0.0018064495023094736,\n",
    "   0.0023584052283554717,\n",
    "   0.0045368489324910683,\n",
    "   0.0025098991292462126,\n",
    "   0.0019497169377377646],\n",
    "  'summed': 0.013161319730139991},\n",
    " {'feats': ['thrange'],\n",
    "  'parts': [0.002456272272492818,\n",
    "   0.002408878667535511,\n",
    "   0.0029340339315762809,\n",
    "   0.0039576919271205159,\n",
    "   0.0026440631128579624],\n",
    "  'summed': 0.01440093991158309},\n",
    " {'feats': ['wrange'],\n",
    "  'parts': [0.0021374162321852754,\n",
    "   0.0025072520769643535,\n",
    "   0.0044924544931211792,\n",
    "   0.00473953419295833,\n",
    "   0.0030086883678944582],\n",
    "  'summed': 0.016885345363123597},\n",
    " {'feats': ['thmax'],\n",
    "  'parts': [0.0040836922262785808,\n",
    "   0.0029567891486957693,\n",
    "   0.0027089613687560944,\n",
    "   0.006215358051445968,\n",
    "   0.0026213326049044296],\n",
    "  'summed': 0.018586133400080841},\n",
    " {'feats': ['vymax'],\n",
    "  'parts': [0.0063492200007053161,\n",
    "   0.0081785354333754074,\n",
    "   0.0022805501091459263,\n",
    "   0.0014501499996823642,\n",
    "   0.0011666636431427908],\n",
    "  'summed': 0.019425119186051807},\n",
    " {'feats': ['dur'],\n",
    "  'parts': [0.0023411038573275642,\n",
    "   0.0027060809352798089,\n",
    "   0.0033060319361859535,\n",
    "   0.007367969046360512,\n",
    "   0.0043403323843997713],\n",
    "  'summed': 0.02006151815955361},\n",
    " {'feats': ['wmax'],\n",
    "  'parts': [0.002726088704861792,\n",
    "   0.0033137615754353449,\n",
    "   0.0051907498202884228,\n",
    "   0.0045853239351648098,\n",
    "   0.0042513696150528581],\n",
    "  'summed': 0.020067293650803227},\n",
    " {'feats': ['vyrange'],\n",
    "  'parts': [0.002930054637100059,\n",
    "   0.0017141379409306378,\n",
    "   0.010783857901207941,\n",
    "   0.0038477060813659524,\n",
    "   0.001567869129259335],\n",
    "  'summed': 0.020843625689863924},\n",
    " {'feats': ['vxmin'],\n",
    "  'parts': [0.0038885042696808082,\n",
    "   0.0090201689633873511,\n",
    "   0.0025119066035196032,\n",
    "   0.0091207227341600292,\n",
    "   0.0007603544335638249],\n",
    "  'summed': 0.025301657004311615},\n",
    " {'feats': ['vysd'],\n",
    "  'parts': [0.014185495102498703,\n",
    "   0.0024398354881761614,\n",
    "   0.010757531445859184,\n",
    "   0.004279277964751433,\n",
    "   0.0025450792030544699],\n",
    "  'summed': 0.034207219204339945},\n",
    " {'feats': ['cwavg'],\n",
    "  'parts': [0.0038160069133528806,\n",
    "   0.0062197851643654382,\n",
    "   0.012201135336905908,\n",
    "   0.003775486748917103,\n",
    "   0.0094536501383360918],\n",
    "  'summed': 0.035466064301877424},\n",
    " {'feats': ['vywsd'],\n",
    "  'parts': [0.01505339222722744,\n",
    "   0.0026770208531065043,\n",
    "   0.012310288235532863,\n",
    "   0.0041069157192806186,\n",
    "   0.0039964014021410654],\n",
    "  'summed': 0.038144018437288492},\n",
    " {'feats': ['csmin'],\n",
    "  'parts': [0.0008449259690873689,\n",
    "   0.0038604712617054063,\n",
    "   0.0035107864839751396,\n",
    "   0.035521750364517476,\n",
    "   0.00039999987325454902],\n",
    "  'summed': 0.04413793395253994},\n",
    " {'feats': ['cmax'],\n",
    "  'parts': [0.010395641546533677,\n",
    "   0.0082879992479068954,\n",
    "   0.010569451507763958,\n",
    "   0.011987179946876076,\n",
    "   0.0079950192635016119],\n",
    "  'summed': 0.049235291512582213},\n",
    " {'feats': ['vsd'],\n",
    "  'parts': [0.016746176276220853,\n",
    "   0.0066917748571463679,\n",
    "   0.014427617872906646,\n",
    "   0.007973551997162754,\n",
    "   0.0035059912812410087],\n",
    "  'summed': 0.049345112284677632},\n",
    " {'feats': ['vymin'],\n",
    "  'parts': [0.011637637841847783,\n",
    "   0.0019923678814800167,\n",
    "   0.02298809787397366,\n",
    "   0.012766884193501639,\n",
    "   0.0018172152200177706],\n",
    "  'summed': 0.051202203010820867},\n",
    " {'feats': ['vwsd'],\n",
    "  'parts': [0.020887502762422107,\n",
    "   0.0074245417943680971,\n",
    "   0.018915430785725936,\n",
    "   0.010563801929771853,\n",
    "   0.0030625184069898019],\n",
    "  'summed': 0.060853795679277803},\n",
    " {'feats': ['vrange'],\n",
    "  'parts': [0.02147519206444792,\n",
    "   0.0083035281113017397,\n",
    "   0.01266830929264897,\n",
    "   0.011210315936930636,\n",
    "   0.0084834425626352343],\n",
    "  'summed': 0.062140787967964503},\n",
    " {'feats': ['vmax'],\n",
    "  'parts': [0.02139498595546023,\n",
    "   0.0086393515702059501,\n",
    "   0.013441068336766502,\n",
    "   0.011849007909587974,\n",
    "   0.0069031193047670355],\n",
    "  'summed': 0.062227533076787696},\n",
    " {'feats': ['vxrange'],\n",
    "  'parts': [0.02477422368867991,\n",
    "   0.012264428794861006,\n",
    "   0.015634643989017608,\n",
    "   0.014629713540506959,\n",
    "   0.0055988405094686859],\n",
    "  'summed': 0.072901850522534159},\n",
    " {'feats': ['vxsd'],\n",
    "  'parts': [0.019423792369771396,\n",
    "   0.010967901721509393,\n",
    "   0.020822443801250975,\n",
    "   0.015485751695665524,\n",
    "   0.0079810049119831208],\n",
    "  'summed': 0.074680894500180395},\n",
    " {'feats': ['vdsd'],\n",
    "  'parts': [0.00073547427537861917,\n",
    "   0.0022145379608706234,\n",
    "   0.035777578451172784,\n",
    "   0.0018533831900185032,\n",
    "   0.053514050018470413],\n",
    "  'summed': 0.094095023895910943},\n",
    " {'feats': ['vmin'],\n",
    "  'parts': [0.016044241023600327,\n",
    "   0.021179773524537024,\n",
    "   0.039527442458014636,\n",
    "   0.017142862375441412,\n",
    "   0.0072037501772382962],\n",
    "  'summed': 0.1010980695588317},\n",
    " {'feats': ['vxmax'],\n",
    "  'parts': [0.026374848115483452,\n",
    "   0.017147934575194392,\n",
    "   0.041297798896606785,\n",
    "   0.0056025464041516513,\n",
    "   0.013184350664184656],\n",
    "  'summed': 0.10360747865562095},\n",
    " {'feats': ['vxwsd'],\n",
    "  'parts': [0.033244515661754966,\n",
    "   0.015899228063974577,\n",
    "   0.028072599294262937,\n",
    "   0.023652984335793024,\n",
    "   0.0061505648676920812],\n",
    "  'summed': 0.10701989222347758},\n",
    " {'feats': ['vdrange'],\n",
    "  'parts': [0.0068607671278881387,\n",
    "   0.0095345778284999655,\n",
    "   0.058783202398778392,\n",
    "   0.0058379905894882676,\n",
    "   0.052781777626130753],\n",
    "  'summed': 0.1337983155707855},\n",
    " {'feats': ['vdwavg'],\n",
    "  'parts': [0.0022940321078082021,\n",
    "   0.0012740636189541401,\n",
    "   0.12704464502115831,\n",
    "   0.0084271439327834891,\n",
    "   0.0050765527947136575],\n",
    "  'summed': 0.1441164374754178},\n",
    " {'feats': ['vdmin'],\n",
    "  'parts': [0.079258356637634614,\n",
    "   0.041429393054782375,\n",
    "   0.023499730891858642,\n",
    "   0.034581310417876779,\n",
    "   0.0040895743504521902],\n",
    "  'summed': 0.18285836535260461},\n",
    " {'feats': ['vddwavg'],\n",
    "  'parts': [0.0014753196004290293,\n",
    "   0.00012933569277844782,\n",
    "   0.0015499846938933466,\n",
    "   4.0824191543216964e-05,\n",
    "   0.19775646293879492],\n",
    "  'summed': 0.20095192711743898},\n",
    " {'feats': ['vdavg'],\n",
    "  'parts': [0.01587918101763686,\n",
    "   0.062980387521949566,\n",
    "   0.1160413837494902,\n",
    "   0.01517300617253468,\n",
    "   0.00031594043607136214],\n",
    "  'summed': 0.21038989889768264},\n",
    " {'feats': ['vdwsd'],\n",
    "  'parts': [0.00071806027717578392,\n",
    "   0.037104257796460247,\n",
    "   0.10534666039958659,\n",
    "   0.027799042695377692,\n",
    "   0.080098484524616473],\n",
    "  'summed': 0.25106650569321681},\n",
    " {'feats': ['vddavg'],\n",
    "  'parts': [0.0017268407537893331,\n",
    "   1.6449150620704715e-05,\n",
    "   0.00042216983036269523,\n",
    "   4.1731571903533812e-05,\n",
    "   0.27711683211724769],\n",
    "  'summed': 0.27932402342392398},\n",
    " {'feats': ['vddsd'],\n",
    "  'parts': [0.0040836490535773214,\n",
    "   3.1250038689878651e-06,\n",
    "   0.001352990959367077,\n",
    "   0.00016491530078948936,\n",
    "   0.27633854451835105],\n",
    "  'summed': 0.28194322483595391},\n",
    " {'feats': ['vddwsd'],\n",
    "  'parts': [0.034883363115721815,\n",
    "   9.5443997445564248e-06,\n",
    "   0.0002914470961876759,\n",
    "   0.00031493583697678168,\n",
    "   0.26156136084205572],\n",
    "  'summed': 0.29706065129068654},\n",
    " {'feats': ['vddrange'],\n",
    "  'parts': [0.072194613896121196,\n",
    "   0.0014562390004694606,\n",
    "   0.011187306262882835,\n",
    "   0.0012432099827100712,\n",
    "   0.26640277462138068],\n",
    "  'summed': 0.35248414376356424},\n",
    " {'feats': ['vddmax'],\n",
    "  'parts': [0.097932954909489459,\n",
    "   0.00057461275450595029,\n",
    "   0.0010434468811336083,\n",
    "   0.00040105636707987122,\n",
    "   0.27913051136751194],\n",
    "  'summed': 0.3790825822797208},\n",
    " {'feats': ['vddmin'],\n",
    "  'parts': [0.048719566587437896,\n",
    "   0.0072969426999503059,\n",
    "   0.18205777210488308,\n",
    "   0.016886855099470643,\n",
    "   0.24699543381460232],\n",
    "  'summed': 0.50195657030634422},\n",
    " {'feats': ['vdmax'],\n",
    "  'parts': [0.15367002617513509,\n",
    "   0.14162878586308925,\n",
    "   0.19846824231477916,\n",
    "   0.1568988564652582,\n",
    "   0.20083511248862615],\n",
    "  'summed': 0.85150102330688793}])"
   ]
  },
  {
   "cell_type": "code",
   "execution_count": null,
   "metadata": {
    "collapsed": false,
    "scrolled": false
   },
   "outputs": [],
   "source": [
    "reload(ann)\n",
    "nw_ofs = ann.OrigFeatureSelection(ofs.csds)\n",
    "nw_ofs.copy_from(ofs)\n",
    "nw_ofs.rate_both()"
   ]
  },
  {
   "cell_type": "code",
   "execution_count": 79,
   "metadata": {
    "collapsed": false
   },
   "outputs": [
    {
     "data": {
      "text/plain": [
       "(1.0,\n",
       " {'feats': ['thwavg'],\n",
       "  'norm': 0.0076655754547434408,\n",
       "  'parts': [0.0017477704379519653,\n",
       "   0.0007715163041832164,\n",
       "   0.004026595426523708,\n",
       "   0.0018085712338091941,\n",
       "   0.0006108418380134898],\n",
       "  'summed': 0.008965295240481574})"
      ]
     },
     "execution_count": 79,
     "metadata": {},
     "output_type": "execute_result"
    }
   ],
   "source": [
    "ft = 'thwavg'\n",
    "ofs.xi2_pv[ft][1], ofs.selfsim_ratings_dict[ft]"
   ]
  },
  {
   "cell_type": "code",
   "execution_count": 101,
   "metadata": {
    "collapsed": false
   },
   "outputs": [
    {
     "data": {
      "text/plain": [
       "[<matplotlib.lines.Line2D at 0x121264390>]"
      ]
     },
     "execution_count": 101,
     "metadata": {},
     "output_type": "execute_result"
    }
   ],
   "source": [
    "plt.plot(sorted([x[1] for x in ofs.xi2_pv.values()]), marker='x')\n",
    "plt.plot(sorted([x['norm'] for x in ofs.selfsim_ratings_dict.values()]), marker='x')"
   ]
  },
  {
   "cell_type": "code",
   "execution_count": 78,
   "metadata": {
    "collapsed": false,
    "scrolled": true
   },
   "outputs": [
    {
     "data": {
      "text/plain": [
       "0.0"
      ]
     },
     "execution_count": 78,
     "metadata": {},
     "output_type": "execute_result"
    }
   ],
   "source": [
    "ss_norm = np.array([x['norm'] for x in ofs.selfsim_ratings_dict.values()])\n",
    "ss_norm.min()"
   ]
  },
  {
   "cell_type": "markdown",
   "metadata": {},
   "source": [
    "**Explorations**"
   ]
  },
  {
   "cell_type": "code",
   "execution_count": 204,
   "metadata": {
    "collapsed": false
   },
   "outputs": [
    {
     "data": {
      "text/plain": [
       "{'mean': 0.1592991104344037,\n",
       " 'median': 0.096008157823234797,\n",
       " 'sd': 0.24243941577162911}"
      ]
     },
     "execution_count": 204,
     "metadata": {},
     "output_type": "execute_result"
    }
   ],
   "source": [
    "reload(ann)\n",
    "\n",
    "psa = ann.PerSessionAnalysis(csdsg.first['sess_data'])\n",
    "psa.run()\n",
    "psa.result.values()[0].hold.__dict__"
   ]
  },
  {
   "cell_type": "code",
   "execution_count": 150,
   "metadata": {
    "collapsed": false
   },
   "outputs": [],
   "source": [
    "# plot all strokes with constant Y or X\n",
    "st = csdsg.all_data['strokes']\n",
    "lsA = st[120:130]\n",
    "'''\n",
    "for s in st:\n",
    "    if all(x == s['x'][0] for x in s['x']):\n",
    "        lsA.append(s)\n",
    "    elif all(y == s['y'][0] for y in s['y']):\n",
    "        lsA.append(s)\n",
    "'''\n",
    "lsB = []\n",
    "\n",
    "# all belong to the same user\n",
    "#assert len(set(x['sess'] for x in lsA)) == 1\n",
    "#assert len(set(x['sess'] for x in lsB)) == 1\n",
    "\n",
    "for s in lsA:\n",
    "    plt.plot(s['x'], s['y'], 'x-')\n",
    "    \n",
    "for s in lsB:\n",
    "    plt.plot(s['x'], s['y'], 'o-')\n",
    "\n"
   ]
  },
  {
   "cell_type": "code",
   "execution_count": 27,
   "metadata": {
    "collapsed": false
   },
   "outputs": [],
   "source": [
    "fig, ax = plt.subplots(1)\n",
    "\n",
    "# draw from pre-selected, pre-filtered stroke set\n",
    "s = csdsg.all_data['strokes'][34]\n",
    "\n",
    "ax1 = ax\n",
    "ax1.plot(range(len(s['c'])), np.array(s['c']) * 5, marker='o')\n",
    "ax1.plot(range(len(s['w'])), np.array(s['w']) / 100, marker='.');\n",
    "ax2 = ax1.twinx()\n",
    "#ax2.plot(range(len(s['x'])), s['x'], c='red', marker='x')\n",
    "ax1.plot(range(len(s['cs'])), s['cs'], marker='x')\n",
    "\n",
    "ax3 = ax2\n",
    "#ax3.plot(range(len(s['y'])), s['y'], c='green', marker='x')\n",
    "\n",
    "#ax[1].plot(s['x'], s['y'], marker='x')"
   ]
  },
  {
   "cell_type": "markdown",
   "metadata": {},
   "source": [
    "## PCA & plot"
   ]
  },
  {
   "cell_type": "code",
   "execution_count": 26,
   "metadata": {
    "collapsed": false
   },
   "outputs": [
    {
     "name": "stdout",
     "output_type": "stream",
     "text": [
      "removed 38\n"
     ]
    }
   ],
   "source": [
    "reload(ann)\n",
    "pca = ann.FeaturesPCA()\n",
    "pca.load(csdsg.all_data['orig'])\n",
    "pca.pca_first()\n",
    "pca.plot_scatter(pca.pca.Y, pca.data1)"
   ]
  },
  {
   "cell_type": "code",
   "execution_count": 89,
   "metadata": {
    "collapsed": false,
    "scrolled": false
   },
   "outputs": [
    {
     "data": {
      "text/plain": [
       "0"
      ]
     },
     "execution_count": 89,
     "metadata": {},
     "output_type": "execute_result"
    }
   ],
   "source": [
    "reload(ann)\n",
    "import matplotlib.widgets as mwid\n",
    "\n",
    "fig, axes = plt.subplots(1)\n",
    "ax = axes\n",
    "ax.set_position([0.14, 0.14, 0.8, 0.8])\n",
    "\n",
    "try: del(analyze_range)\n",
    "except NameError: pass\n",
    "\n",
    "_, old_sel = ann.DataSet.regularize_column(csdsg.all_data['orig'].nums[:,0], True, True, False)\n",
    "old_wh = set(np.where(np.logical_not(old_sel))[0])\n",
    "\n",
    "# needs special treatment for cut_high:\n",
    "# th, c, cs, cd\n",
    "# needs special treatment for cut_low:\n",
    "# vmin, vdd, cs, c\n",
    "\n",
    "def analyze_range(ix, cut_low, cut_high, draw_orig):\n",
    "    ax.clear()\n",
    "    \n",
    "    vals = csdsg.all_data['orig'].nums[:,ix]\n",
    "\n",
    "    cnt = len(vals)\n",
    "    vals, sel = ann.DataSet.regularize_column(vals, cut_low, cut_high, log=False)\n",
    "    vals = np.sort(vals)\n",
    "    wh = set(np.where(np.logical_not(sel))[0])\n",
    "   \n",
    "    header = csdsg.all_data['orig'].headers[ix]\n",
    "    \n",
    "    # compare selection\n",
    "    global old_sel\n",
    "    if old_sel != None:\n",
    "        both_sel = np.logical_not(sel | old_sel)\n",
    "        out_of_here = np.count_nonzero(np.logical_not(sel))\n",
    "        \n",
    "        if out_of_here > 340: print header, 'OOH', out_of_here\n",
    "        #print ('cut out of both:', np.count_nonzero(both_sel), \n",
    "        #       'cut out of here:', out_of_here,\n",
    "        #       'with set:', len(old_wh.intersection(wh)))\n",
    "   \n",
    "    # plotting\n",
    "    X = range(len(vals))\n",
    "    if draw_orig:\n",
    "        ax.plot(X, vals, color='blue', alpha=0.5, marker='x', markersize=3)\n",
    "\n",
    "    lvals = ann.large_log(vals)\n",
    "\n",
    "    ax.plot(X, lvals, color='red', marker='x', markersize=0)\n",
    "    ax.set_title(header)\n",
    "    xr, yr = ax.get_xlim(), ax.get_ylim()\n",
    "    ax.set_xlim(-400, 1.1 * xr[1])\n",
    "    fig.canvas.draw()\n",
    "    \n",
    "params = [0, False, False, False]    \n",
    "    \n",
    "rax = plt.axes([0.02, 0.4, 0.13, 0.5], aspect='equal')\n",
    "labels = ('cut low', 'cut high', 'orig')\n",
    "check = mwid.CheckButtons(rax, labels, (False, False, False))\n",
    "def check_fn(label):\n",
    "    i = labels.index(label)\n",
    "    params[i+1] = not params[i+1]\n",
    "    analyze_range(*params)\n",
    "check.on_clicked(check_fn)\n",
    "\n",
    "slider_ax = plt.axes([0.02, 0.02, 1, 0.1], aspect='auto')\n",
    "slider = mwid.Slider(slider_ax, \"feature\", 0, 78, valinit=0, color='#AAFAAA')\n",
    "def slider_fn(val):\n",
    "    params[0] = int(val)\n",
    "    analyze_range(*params)\n",
    "    \n",
    "slider.on_changed(slider_fn)\n"
   ]
  },
  {
   "cell_type": "code",
   "execution_count": 265,
   "metadata": {
    "collapsed": false,
    "scrolled": true
   },
   "outputs": [
    {
     "data": {
      "text/plain": [
       "(126,)"
      ]
     },
     "execution_count": 265,
     "metadata": {},
     "output_type": "execute_result"
    }
   ],
   "source": [
    "reload(ann)\n",
    "xd = csdsg.all_data['orig'].to_pandas()\n",
    "D = xd.csmax\n",
    "p = np.percentile(D, 98)\n",
    "D[D > p].shape"
   ]
  },
  {
   "cell_type": "code",
   "execution_count": 289,
   "metadata": {
    "collapsed": false,
    "scrolled": false
   },
   "outputs": [
    {
     "name": "stdout",
     "output_type": "stream",
     "text": [
      "removed 2506\n"
     ]
    }
   ],
   "source": [
    "reload(ann)\n",
    "x = csdsg.all_data['orig']\n",
    "\n",
    "datasrc = ann.DataSet()\n",
    "datasrc.nums = x.nums\n",
    "datasrc.ids = x.ids\n",
    "datasrc.slabel = x.slabel\n",
    "datasrc.headers = x.headers\n",
    "\n",
    "datasrc = datasrc.massage_all(feature_massage)"
   ]
  },
  {
   "cell_type": "markdown",
   "metadata": {},
   "source": [
    "## 2D histograms from PCA"
   ]
  },
  {
   "cell_type": "markdown",
   "metadata": {},
   "source": [
    "## Whole stroke features direct analysis"
   ]
  },
  {
   "cell_type": "code",
   "execution_count": 39,
   "metadata": {
    "collapsed": false
   },
   "outputs": [],
   "source": [
    "reload(ann)\n",
    "ofda = ann.OrigFeatureDirectAnalysis(csdsg.all_data['orig'])\n",
    "ofda.velocity_analysis()\n",
    "ofda.plot_velocity()\n",
    "ofda.plot_hist_inonene()"
   ]
  },
  {
   "cell_type": "markdown",
   "metadata": {},
   "source": [
    "## Histogram by user"
   ]
  },
  {
   "cell_type": "code",
   "execution_count": 74,
   "metadata": {
    "collapsed": false
   },
   "outputs": [
    {
     "data": {
      "text/plain": [
       "'\\nfig, axes = plt.subplots(1, 3)\\n# TODO: is the weighting here correct?\\nfor ix, dat in enumerate(dats):\\n    _ = axes[ix].hist(dat, weights=np.zeros_like(dat) + 1. / dat.size,\\n             alpha=0.8, bins=bins)\\n'"
      ]
     },
     "execution_count": 74,
     "metadata": {},
     "output_type": "execute_result"
    }
   ],
   "source": [
    "reload(ann)\n",
    "\n",
    "PaC_slabels = csdsg.slabels_by()\n",
    "\n",
    "class HistPlotter(object):\n",
    "    def __init__(self):\n",
    "        self.Range = [None, None]\n",
    "        self.col = 'vdsd'\n",
    "        \n",
    "    def adjust_range(self, dat):\n",
    "        dat = dat.cbyname(self.col)\n",
    "        self.Range[0] = ann.omin([self.Range[0], dat.min()])\n",
    "        self.Range[1] = ann.omax([self.Range[1], dat.max()])\n",
    "        \n",
    "    def plot(self, dat, ax, opt):\n",
    "        ax.hist(dat.cbyname(self.col), bins=np.linspace(self.Range[0], self.Range[1]/3, 60))\n",
    "        \n",
    "        \n",
    "\n",
    "def fn_slabel_filter(k, v):\n",
    "    return v.by_slabel(PaC_slabels)\n",
    "\n",
    "sg = ann.SplitGrid(ann.dictmap(fn_slabel_filter, csdsg.first['orsplit']),\n",
    "                   ann.dictmap(fn_slabel_filter, csdsg.second['orsplit']),\n",
    "                   HistPlotter())\n",
    "sg.plot_all()\n",
    "'''\n",
    "fig, axes = plt.subplots(1, 3)\n",
    "# TODO: is the weighting here correct?\n",
    "for ix, dat in enumerate(dats):\n",
    "    _ = axes[ix].hist(dat, weights=np.zeros_like(dat) + 1. / dat.size,\n",
    "             alpha=0.8, bins=bins)\n",
    "'''"
   ]
  },
  {
   "cell_type": "markdown",
   "metadata": {},
   "source": [
    "## scatter plot of speed vs. distance travelled (MSD)"
   ]
  },
  {
   "cell_type": "code",
   "execution_count": 41,
   "metadata": {
    "collapsed": false
   },
   "outputs": [],
   "source": [
    "Dist = data_all.cbyname('s')\n",
    "Speed = data_all.cbyname('vwsd')  # check if it's similar to s / dur\n",
    "Speed2 = data_all.cbyname('s') / data_all.cbyname('dur')\n",
    "\n",
    "C = [ses_colors[x] for x in data_all.ids]\n",
    "\n",
    "scatter(Dist, Speed, s=[(10 if x == '1423475777' else 5) for x in data_all.ids], c=C, marker='x')\n",
    "show()"
   ]
  },
  {
   "cell_type": "markdown",
   "metadata": {},
   "source": [
    "# Segmentation for SpeedsHistogram"
   ]
  },
  {
   "cell_type": "code",
   "execution_count": 33,
   "metadata": {
    "collapsed": true
   },
   "outputs": [],
   "source": [
    "reload(ann)\n",
    "sel1 = ann.SelectStrokes(csds2.all_data['strokes'], csds2.sessions)\n",
    "sel1.min_len = 20\n",
    "sel1.max_len = 40\n",
    "sel1.min_speed = 0.00005\n",
    "sel1.max_speed = 0.0005\n",
    "sel1.divide_to_sessions()\n",
    "\n",
    "sel2 = ann.SelectStrokes(csds2.all_data['strokes'], csds2.sessions)\n",
    "sel2.min_len = 20\n",
    "sel2.max_len = 40\n",
    "sel2.min_speed = 0.0005\n",
    "sel2.max_speed = 1\n",
    "sel2.divide_to_sessions()\n",
    "\n",
    "def plot_sel(sel):\n",
    "    vhist = ann.SpeedsHistogram()\n",
    "    vhist.load_dct(sel.dat, sel.sess_mapping)\n",
    "    vhist.calc_means()\n",
    "    vhist.prepare_plot()\n",
    "    vhist.plot_hist()\n",
    "    vhist.plot_line()\n",
    "    \n",
    "plot_sel(sel1)\n",
    "plot_sel(sel2)"
   ]
  },
  {
   "cell_type": "code",
   "execution_count": 13,
   "metadata": {
    "collapsed": false
   },
   "outputs": [
    {
     "data": {
      "text/plain": [
       "9"
      ]
     },
     "execution_count": 13,
     "metadata": {},
     "output_type": "execute_result"
    }
   ],
   "source": [
    "len([1 for s in csdsg.all_data['strokes'] if any(v > 400000 for v in s['v'])])"
   ]
  },
  {
   "cell_type": "code",
   "execution_count": 15,
   "metadata": {
    "collapsed": false
   },
   "outputs": [
    {
     "name": "stdout",
     "output_type": "stream",
     "text": [
      "{'Roman': 929, 'Iv': 986, 'Si': 2366, 'Andrew': 1576, 'Joe': 1087}\n"
     ]
    }
   ],
   "source": [
    "reload(ann)\n",
    "\n",
    "sel = ann.SelectStrokes(csdsg.all_data['strokes'], csdsg.sessions)\n",
    "sel.min_len = 41\n",
    "sel.max_len = 400\n",
    "sel.min_speed = 5\n",
    "sel.max_speed = 4000\n",
    "#sel.custom_filter =  lambda x: ( x['slabel'] in PaC_slabels )\n",
    "sel.divide_to_sessions()\n",
    "print sel.filtered_cnt\n",
    "\n",
    "vhist = ann.SpeedsHistogram()\n",
    "vhist.key = 'v'\n",
    "vhist.yrange_scale = 0.1\n",
    "vhist.load_dct(sel.dat, sel.sess_mapping)\n",
    "#vhist.Range = [[0, 100], [-20e6, 20e6]]\n",
    "vhist.calc_means()"
   ]
  },
  {
   "cell_type": "code",
   "execution_count": 50,
   "metadata": {
    "collapsed": false,
    "scrolled": true
   },
   "outputs": [],
   "source": [
    "vhist.prepare_plot()\n",
    "vhist.plot_hist()\n",
    "vhist.plot_line()\n",
    "#vhist.plot_kde_hist()"
   ]
  },
  {
   "cell_type": "code",
   "execution_count": 16,
   "metadata": {
    "collapsed": false
   },
   "outputs": [
    {
     "name": "stdout",
     "output_type": "stream",
     "text": [
      "Roman Roman 119.811965141\n",
      "Roman Andrew 88.7656064158\n",
      "Roman Si 80.8070980577\n",
      "Roman Joe 137.360766771\n",
      "Roman Iv 178.683802026\n",
      "Andrew Roman 181.433508247\n",
      "Andrew Andrew 128.975853829\n",
      "Andrew Si 90.736747941\n",
      "Andrew Joe 260.960519501\n",
      "Andrew Iv 297.235013865\n",
      "Si Roman 153.4788912\n",
      "Si Andrew 130.314561175\n",
      "Si Si 37.7827143748\n",
      "Si Joe 211.769803549\n",
      "Si Iv 245.337653233\n",
      "Joe Roman 178.630443536\n",
      "Joe Andrew 135.057577242\n",
      "Joe Si 187.118171786\n",
      "Joe Joe 87.1855850853\n",
      "Joe Iv 211.797856505\n",
      "Iv Roman 115.719971806\n",
      "Iv Andrew 105.485935229\n",
      "Iv Si 123.181569115\n",
      "Iv Joe 145.578635747\n",
      "Iv Iv 124.937935474\n"
     ]
    }
   ],
   "source": [
    "reload(ann)\n",
    "ev = ann.EvaluateStrokeSpeedsMethod(sel, csdsg)\n",
    "ev.hs_learning.yrange_scale = ev.hs_testing.yrange_scale = 0.1\n",
    "\n",
    "ev.calc()\n",
    "\n",
    "# uh oh\n",
    "ev.hs_learning.Range = ev.hs_testing.Range"
   ]
  },
  {
   "cell_type": "code",
   "execution_count": 10,
   "metadata": {
    "collapsed": false
   },
   "outputs": [
    {
     "data": {
      "text/plain": [
       "(<matplotlib.figure.Figure at 0x114694690>,\n",
       " <matplotlib.axes._subplots.AxesSubplot at 0x116437490>)"
      ]
     },
     "execution_count": 10,
     "metadata": {},
     "output_type": "execute_result"
    }
   ],
   "source": [
    "ev.plot_comparisons()\n",
    "ev.plot_comparison_hists()\n",
    "ann.ParzenMethod.show_match(ev.cmp_results)"
   ]
  },
  {
   "cell_type": "code",
   "execution_count": 84,
   "metadata": {
    "collapsed": false
   },
   "outputs": [
    {
     "name": "stdout",
     "output_type": "stream",
     "text": [
      " 32.9526237672 353820.769455 1241.07862674\n"
     ]
    }
   ],
   "source": [
    "x = np.array([i['v'][0] for i in csdsg.all_data['strokes']])\n",
    "print x.min(), x.max(), x.mean()"
   ]
  },
  {
   "cell_type": "markdown",
   "metadata": {},
   "source": [
    "**Parzen density estimation**"
   ]
  },
  {
   "cell_type": "code",
   "execution_count": 293,
   "metadata": {
    "collapsed": false,
    "scrolled": false
   },
   "outputs": [],
   "source": [
    "reload(ann)\n",
    "\n",
    "datasrc = [csdsg.first['orig'], csdsg.second['orig']]\n",
    "Headers = datasrc[0].headers[:73:2]\n",
    "\n",
    "cpm = ann.CompareParzenMethod(datasrc, ['vdavg', 'thrange'])\n",
    "cpm.plot = True\n",
    "match_d = cpm.run()"
   ]
  },
  {
   "cell_type": "code",
   "execution_count": 16,
   "metadata": {
    "collapsed": false
   },
   "outputs": [
    {
     "data": {
      "text/plain": [
       "(<matplotlib.figure.Figure at 0xc46c0d0>,\n",
       " <matplotlib.axes._subplots.AxesSubplot at 0xc4635d0>)"
      ]
     },
     "execution_count": 16,
     "metadata": {},
     "output_type": "execute_result"
    }
   ],
   "source": [
    "reload(ann)\n",
    "datasrc = [csdsg.first['orig'], csdsg.second['orig']]\n",
    "\n",
    "# selected randomly\n",
    "Headers = ['vavg', 'vrange', 'vmin', 'vxsd', 'vysd', 'csavg', 'csrange', 'cavg', 'cmax']\n",
    "Headers2 = ['vxmin', 'vxmax', 'vxavg', 'vxsd', 'vxrange', 'vxwavg', 'vxwsd',\n",
    "       'vymin', 'vymax', 'vyavg', 'vysd', 'vyrange', 'vywavg', 'vywsd',\n",
    "       'vmin', 'vmax', 'vavg', 'vsd', 'vrange', 'vwavg', 'vwsd', 'vdmin',\n",
    "       'vdmax', 'vdavg', 'vdsd', 'vdrange', 'vdwavg', 'vdwsd', 'vddmin',\n",
    "       'vddmax', 'vddavg', 'vddsd', 'vddrange', 'vddwavg', 'vddwsd',\n",
    "       'thmin', 'thmax', 'thavg', 'thsd', 'thrange', 'thwavg', 'thwsd',\n",
    "       'wmin', 'wmax', 'wavg', 'wsd', 'wrange', 'wwavg', 'wwsd', 'cmin',\n",
    "       'cmax', 'cavg', 'csd', 'crange', 'cwavg', 'cwsd', 'cdmin', 'cdmax',\n",
    "       'cdavg', 'cdsd', 'cdrange', 'cdwavg', 'cdwsd', 'csmin', 'csmax',\n",
    "       'csavg', 'cssd', 'csrange', 'cswavg', 'cswsd', 's', 'dur']\n",
    "\n",
    "Headers = ['cdmin', 'wwsd', 'thmin', 'wavg', 'cssd', 'cdrange', 'vsd']\n",
    "Headers = ['thsd', 'cdavg', 'cavg', 'thmin', 'dur', 'wrange']\n",
    "cpm = ann.CompareParzenMethod(datasrc, Headers)\n",
    "cpm.plot = False\n",
    "\n",
    "match_d = cpm.run_multid()\n",
    "ann.ParzenMethod.show_match(match_d)\n"
   ]
  },
  {
   "cell_type": "code",
   "execution_count": 14,
   "metadata": {
    "collapsed": true
   },
   "outputs": [
    {
     "data": {
      "text/plain": [
       "[{'feats': ['wavg'],\n",
       "  'parts': [0.00018854950853572312,\n",
       "   0.00012215743140089338,\n",
       "   0.00018653710264473919,\n",
       "   6.8967988988497873e-05,\n",
       "   0.00017190897743899115],\n",
       "  'summed': 0.00073812100900884467},\n",
       " {'feats': ['cssd'],\n",
       "  'parts': [6.9207117921817876e-05,\n",
       "   0.00015068168555478818,\n",
       "   0.00035031364904046763,\n",
       "   0.0001039409198214134,\n",
       "   0.00012754217209833406],\n",
       "  'summed': 0.00080168554443682115},\n",
       " {'feats': ['csavg'],\n",
       "  'parts': [0.00019672236595185273,\n",
       "   7.3572350743904521e-05,\n",
       "   0.0002489083008122532,\n",
       "   6.1519835144126629e-05,\n",
       "   0.00025452775430791062],\n",
       "  'summed': 0.0008352506069600476},\n",
       " {'feats': ['cswavg'],\n",
       "  'parts': [0.00017449295915316699,\n",
       "   0.00016453955173436518,\n",
       "   0.00028021128819810155,\n",
       "   7.632987315196968e-05,\n",
       "   0.00022625839212897229],\n",
       "  'summed': 0.00092183206436657569},\n",
       " {'feats': ['csd'],\n",
       "  'parts': [0.00012050284791168681,\n",
       "   0.0003433322992420694,\n",
       "   0.00027655109037666659,\n",
       "   6.3781358419191887e-05,\n",
       "   0.00015186697726686236],\n",
       "  'summed': 0.00095603457321647703},\n",
       " {'feats': ['vyrange'],\n",
       "  'parts': [8.4420865704254872e-05,\n",
       "   0.00017230916819480321,\n",
       "   0.00042161797129015713,\n",
       "   0.0002482819992049745,\n",
       "   5.6216567852343399e-05],\n",
       "  'summed': 0.00098284657224653326},\n",
       " {'feats': ['csmax'],\n",
       "  'parts': [0.00010176921885988766,\n",
       "   8.6310376482628661e-05,\n",
       "   0.00058993315335987607,\n",
       "   5.5570331586415706e-05,\n",
       "   0.00015267752437149532],\n",
       "  'summed': 0.00098626060466030347},\n",
       " {'feats': ['csrange'],\n",
       "  'parts': [0.00011314292905993477,\n",
       "   0.00010400857100034968,\n",
       "   0.00057198406783608537,\n",
       "   6.4353065109610912e-05,\n",
       "   0.00013705691124925261],\n",
       "  'summed': 0.00099054554425523334},\n",
       " {'feats': ['cdsd'],\n",
       "  'parts': [0.00013010077457630635,\n",
       "   0.00038282693534323116,\n",
       "   0.0002954962014715787,\n",
       "   4.3123791621940187e-05,\n",
       "   0.00014707125175749013],\n",
       "  'summed': 0.00099861895477054642},\n",
       " {'feats': ['dur'],\n",
       "  'parts': [0.00027307583220922158,\n",
       "   0.00026672574362517201,\n",
       "   0.00037607411379478149,\n",
       "   9.1482201785537013e-05,\n",
       "   0.00014484620935850277],\n",
       "  'summed': 0.0011522041007732148},\n",
       " {'feats': ['thsd'],\n",
       "  'parts': [0.00018415297466757764,\n",
       "   0.00016269321466280185,\n",
       "   0.00054304768806244747,\n",
       "   3.6692572496564458e-05,\n",
       "   0.00027659269104775427],\n",
       "  'summed': 0.0012031791409371456},\n",
       " {'feats': ['thwsd'],\n",
       "  'parts': [0.00012306969556197993,\n",
       "   0.0001983903216074112,\n",
       "   0.00065406296312101291,\n",
       "   0.00017864838327274696,\n",
       "   8.4484718182209408e-05],\n",
       "  'summed': 0.0012386560817453604},\n",
       " {'feats': ['wwsd'],\n",
       "  'parts': [9.9808463667592633e-05,\n",
       "   0.00032852609346607873,\n",
       "   0.00035576198612060391,\n",
       "   0.00032152982282161686,\n",
       "   0.00016433063571535841],\n",
       "  'summed': 0.0012699570017912507},\n",
       " {'feats': ['cswsd'],\n",
       "  'parts': [7.4457639887589756e-05,\n",
       "   0.00029851306966862133,\n",
       "   0.00058822120144122133,\n",
       "   0.00023969362048806932,\n",
       "   8.8160821467406071e-05],\n",
       "  'summed': 0.0012890463529529079},\n",
       " {'feats': ['wwavg'],\n",
       "  'parts': [0.00017799928531413723,\n",
       "   0.00012538849197206431,\n",
       "   0.00042749456599361119,\n",
       "   0.00023395595304652027,\n",
       "   0.00040345133155174194],\n",
       "  'summed': 0.001368289627878075},\n",
       " {'feats': ['vysd'],\n",
       "  'parts': [0.00010796878290032169,\n",
       "   0.00018099295221313914,\n",
       "   0.00053252898943110377,\n",
       "   0.00046765211472351973,\n",
       "   8.3747139427181548e-05],\n",
       "  'summed': 0.0013728899786952659},\n",
       " {'feats': ['wsd'],\n",
       "  'parts': [0.00019925412073439823,\n",
       "   0.00044302229933678258,\n",
       "   0.00035759047316331438,\n",
       "   0.00022587521737675248,\n",
       "   0.00017735933050585154],\n",
       "  'summed': 0.0014031014411170991},\n",
       " {'feats': ['cwsd'],\n",
       "  'parts': [0.00018462655697662302,\n",
       "   0.00047862288747331917,\n",
       "   0.00032643751735706063,\n",
       "   0.00019530872742764828,\n",
       "   0.000229425405950021],\n",
       "  'summed': 0.0014144210951846721},\n",
       " {'feats': ['vymin'],\n",
       "  'parts': [0.00067347437025614895,\n",
       "   0.00013949088804928459,\n",
       "   0.000205311744758395,\n",
       "   8.8369039443547245e-05,\n",
       "   0.00032539723618033554],\n",
       "  'summed': 0.0014320432786877114},\n",
       " {'feats': ['cdwsd'],\n",
       "  'parts': [0.00017686135959124941,\n",
       "   0.00038186850599142665,\n",
       "   0.00034342593380986869,\n",
       "   0.00023370510853528957,\n",
       "   0.00030757248044826455],\n",
       "  'summed': 0.0014434333883760989},\n",
       " {'feats': ['cdmin'],\n",
       "  'parts': [0.00016383429071019519,\n",
       "   0.00067626589505234572,\n",
       "   0.00028824599702396796,\n",
       "   7.175174557455809e-05,\n",
       "   0.00031203992267462004],\n",
       "  'summed': 0.001512137851035687},\n",
       " {'feats': ['vdwavg'],\n",
       "  'parts': [0.00014508618810698225,\n",
       "   0.00015071712306590659,\n",
       "   0.00077375497316582362,\n",
       "   0.00032360347555725687,\n",
       "   0.00016502099777570582],\n",
       "  'summed': 0.0015581827576716754},\n",
       " {'feats': ['vywsd'],\n",
       "  'parts': [0.00010966630414688348,\n",
       "   0.00028509530522200909,\n",
       "   0.00065487162699053524,\n",
       "   0.00043583997268523876,\n",
       "   8.6414257575632782e-05],\n",
       "  'summed': 0.0015718874666202994},\n",
       " {'feats': ['crange'],\n",
       "  'parts': [0.00025625323103814778,\n",
       "   0.00041219828774517102,\n",
       "   0.0004768750832892482,\n",
       "   0.00010694186768151148,\n",
       "   0.00033498088477436214],\n",
       "  'summed': 0.0015872493545284407},\n",
       " {'feats': ['vmin'],\n",
       "  'parts': [0.00022746486918782504,\n",
       "   0.00059033484670846189,\n",
       "   0.00034861709754845891,\n",
       "   0.00037478635500394513,\n",
       "   5.9632773768245807e-05],\n",
       "  'summed': 0.0016008359422169367},\n",
       " {'feats': ['vxmin'],\n",
       "  'parts': [0.00010130892040985196,\n",
       "   0.0005441727460745448,\n",
       "   0.00022542098938590029,\n",
       "   0.00045020485278813812,\n",
       "   0.00029117454171447411],\n",
       "  'summed': 0.0016122820503729094},\n",
       " {'feats': ['vdsd'],\n",
       "  'parts': [8.7318522645808813e-05,\n",
       "   0.00042089847010634432,\n",
       "   0.00092725245701238415,\n",
       "   9.8715073698625835e-05,\n",
       "   0.00011005900429989952],\n",
       "  'summed': 0.0016442435277630625},\n",
       " {'feats': ['cmin'],\n",
       "  'parts': [0.00028081709842861269,\n",
       "   0.00057427621005898234,\n",
       "   0.00032733646373555236,\n",
       "   7.7934780402611677e-05,\n",
       "   0.00041518133900159755],\n",
       "  'summed': 0.0016755458916273567},\n",
       " {'feats': ['cdavg'],\n",
       "  'parts': [0.00014818525508759697,\n",
       "   0.0010201402746016122,\n",
       "   0.00023298151812470143,\n",
       "   0.00017014659616682346,\n",
       "   0.0001518006280786923],\n",
       "  'summed': 0.0017232542720594264},\n",
       " {'feats': ['s'],\n",
       "  'parts': [0.00048005002404704895,\n",
       "   0.00043972662208136665,\n",
       "   0.00031043973294457274,\n",
       "   0.00032969318961230691,\n",
       "   0.00017417217126111973],\n",
       "  'summed': 0.0017340817399464151},\n",
       " {'feats': ['cdrange'],\n",
       "  'parts': [0.00023667301262821235,\n",
       "   0.00044493364323587874,\n",
       "   0.00068348723465746098,\n",
       "   0.0001472577721464336,\n",
       "   0.0002267525259672195],\n",
       "  'summed': 0.0017391041886352051},\n",
       " {'feats': ['vdwsd'],\n",
       "  'parts': [0.00011027706489709401,\n",
       "   0.00033860189812773262,\n",
       "   0.0012106011682749955,\n",
       "   9.1206529024384867e-05,\n",
       "   0.00014944767348166153],\n",
       "  'summed': 0.0019001343338058685},\n",
       " {'feats': ['wrange'],\n",
       "  'parts': [0.00043704067441550644,\n",
       "   0.00054102601294430308,\n",
       "   0.00067513753611662605,\n",
       "   9.8297651374165879e-05,\n",
       "   0.00017297984684005671],\n",
       "  'summed': 0.0019244817216906582},\n",
       " {'feats': ['vrange'],\n",
       "  'parts': [0.00027031625906838886,\n",
       "   0.00036345627257283665,\n",
       "   0.00080160276764981936,\n",
       "   0.00026225944669700169,\n",
       "   0.00023303732498888014],\n",
       "  'summed': 0.0019306720709769266},\n",
       " {'feats': ['vmax'],\n",
       "  'parts': [0.00029680798218411914,\n",
       "   0.00037299822116978565,\n",
       "   0.00083929031495040801,\n",
       "   0.00026719934248490245,\n",
       "   0.00021798719171853365],\n",
       "  'summed': 0.0019942830525077489},\n",
       " {'feats': ['thrange'],\n",
       "  'parts': [0.00031911217956858985,\n",
       "   0.00029915086964602835,\n",
       "   0.0012576149331497482,\n",
       "   0.00013279856304848744,\n",
       "   0.00014827055786591843],\n",
       "  'summed': 0.002156947103278772},\n",
       " {'feats': ['vavg'],\n",
       "  'parts': [0.00032602416988705896,\n",
       "   0.00044559138796740875,\n",
       "   0.00093743278718623198,\n",
       "   0.00029475420990957723,\n",
       "   0.00020913552000647402],\n",
       "  'summed': 0.0022129380749567511},\n",
       " {'feats': ['cmax'],\n",
       "  'parts': [0.0009867416593360072,\n",
       "   0.00028721446177446382,\n",
       "   0.00023462068898122323,\n",
       "   0.00013254118942684144,\n",
       "   0.00063837737500944014],\n",
       "  'summed': 0.0022794953745279758},\n",
       " {'feats': ['cavg'],\n",
       "  'parts': [0.00023935395241288698,\n",
       "   0.00039977654134259007,\n",
       "   0.0009664868622097203,\n",
       "   0.00025950858914534366,\n",
       "   0.00043555179124451837],\n",
       "  'summed': 0.0023006777363550595},\n",
       " {'feats': ['vxwavg'],\n",
       "  'parts': [0.00056696194709031573,\n",
       "   0.00063910863658332175,\n",
       "   0.00077462848783062688,\n",
       "   0.00010436015455527733,\n",
       "   0.00021655762647219425],\n",
       "  'summed': 0.0023016168525317356},\n",
       " {'feats': ['vdavg'],\n",
       "  'parts': [6.9689201536827323e-05,\n",
       "   8.2316414385724169e-05,\n",
       "   0.00067760142839664499,\n",
       "   0.00082057919772502677,\n",
       "   0.00065464971398157177],\n",
       "  'summed': 0.0023048359560257949},\n",
       " {'feats': ['wmax'],\n",
       "  'parts': [0.00044803158581241414,\n",
       "   0.00068710847794640475,\n",
       "   0.00094688914784338437,\n",
       "   7.266208408418901e-05,\n",
       "   0.00016309303691982387],\n",
       "  'summed': 0.0023177843326062163},\n",
       " {'feats': ['vsd'],\n",
       "  'parts': [0.00036862175370616445,\n",
       "   0.00038999023472046875,\n",
       "   0.00092523028848311877,\n",
       "   0.00041633624958228144,\n",
       "   0.00023450568582071489],\n",
       "  'summed': 0.0023346842123127482},\n",
       " {'feats': ['vwsd'],\n",
       "  'parts': [0.00040031387171896547,\n",
       "   0.00034818245185754844,\n",
       "   0.00092842824968060466,\n",
       "   0.00037514870980893679,\n",
       "   0.00032399215238766227],\n",
       "  'summed': 0.0023760654354537179},\n",
       " {'feats': ['vdmin'],\n",
       "  'parts': [0.00034718777181633854,\n",
       "   0.00043002464919086837,\n",
       "   0.0012081734418496681,\n",
       "   0.00036748836987933784,\n",
       "   5.1479292129411237e-05],\n",
       "  'summed': 0.0024043535248656238},\n",
       " {'feats': ['vwavg'],\n",
       "  'parts': [0.00037384577053016862,\n",
       "   0.0004496100167854892,\n",
       "   0.00096923885544822439,\n",
       "   0.00043517676725680091,\n",
       "   0.0002206680463451603],\n",
       "  'summed': 0.0024485394563658431},\n",
       " {'feats': ['cdmax'],\n",
       "  'parts': [0.00076409502896533893,\n",
       "   0.00047837861949681486,\n",
       "   0.00085832757672390267,\n",
       "   9.0521548428505703e-05,\n",
       "   0.00030938591313351706],\n",
       "  'summed': 0.0025007086867480793},\n",
       " {'feats': ['vxavg'],\n",
       "  'parts': [0.00047381758088943,\n",
       "   0.00067976018665296897,\n",
       "   0.0011057427912363966,\n",
       "   8.7920820591057614e-05,\n",
       "   0.00019835030678001016],\n",
       "  'summed': 0.0025455916861498633},\n",
       " {'feats': ['vxrange'],\n",
       "  'parts': [0.00049385166702144341,\n",
       "   0.00094656829344351835,\n",
       "   0.00061215863329213067,\n",
       "   0.00027587949166395139,\n",
       "   0.00024470246436943398],\n",
       "  'summed': 0.0025731605497904776},\n",
       " {'feats': ['vddsd'],\n",
       "  'parts': [0.0008211324128557533,\n",
       "   0.00018604512890913635,\n",
       "   0.0015195049473775079,\n",
       "   4.9628819430145523e-05,\n",
       "   6.2333725071404001e-05],\n",
       "  'summed': 0.0026386450336439468},\n",
       " {'feats': ['vddwavg'],\n",
       "  'parts': [0.00079582102975042526,\n",
       "   0.0001882567781661176,\n",
       "   0.0012959659082096675,\n",
       "   0.00012572131416019772,\n",
       "   0.0003111935863985909],\n",
       "  'summed': 0.0027169586166849984},\n",
       " {'feats': ['vyavg'],\n",
       "  'parts': [0.00085791359581207207,\n",
       "   0.00024702189701389496,\n",
       "   0.00083014320270745757,\n",
       "   0.00062991119190148432,\n",
       "   0.00020517209129455801],\n",
       "  'summed': 0.002770161978729467},\n",
       " {'feats': ['vddmin'],\n",
       "  'parts': [0.0001586241815084032,\n",
       "   0.0002302048538835527,\n",
       "   0.0020546168689214482,\n",
       "   0.00022511115445069147,\n",
       "   0.00010749445702874395],\n",
       "  'summed': 0.0027760515157928397},\n",
       " {'feats': ['vxsd'],\n",
       "  'parts': [0.0005631227792475082,\n",
       "   0.00088342603279301481,\n",
       "   0.00073194010818414474,\n",
       "   0.00043661362845609215,\n",
       "   0.00022756850811914909],\n",
       "  'summed': 0.0028426710567999091},\n",
       " {'feats': ['thmax'],\n",
       "  'parts': [0.0010252084089213971,\n",
       "   0.00027161293849152507,\n",
       "   0.000562760517036989,\n",
       "   0.0005659778374605594,\n",
       "   0.00044400710663794907],\n",
       "  'summed': 0.0028695668085484197},\n",
       " {'feats': ['vdrange'],\n",
       "  'parts': [0.00027502637726829201,\n",
       "   0.00028665125075566457,\n",
       "   0.0020437300786382666,\n",
       "   0.00025900533184752291,\n",
       "   9.337209693144063e-05],\n",
       "  'summed': 0.002957785135441187},\n",
       " {'feats': ['thavg'],\n",
       "  'parts': [0.00074428338418506537,\n",
       "   0.00048650979642391254,\n",
       "   0.00096606515424953296,\n",
       "   0.00053337704334184728,\n",
       "   0.00024836814167109484],\n",
       "  'summed': 0.002978603519871453},\n",
       " {'feats': ['cdwavg'],\n",
       "  'parts': [0.00036541430124165499,\n",
       "   0.0012761250040144393,\n",
       "   0.00058181042128771965,\n",
       "   0.00037916327112679611,\n",
       "   0.00042154645276428523],\n",
       "  'summed': 0.0030240594504348955},\n",
       " {'feats': ['vywavg'],\n",
       "  'parts': [0.001025256781132402,\n",
       "   0.00022623075169299261,\n",
       "   0.0010239821231935937,\n",
       "   0.00061630794171718467,\n",
       "   0.00017865936489594791],\n",
       "  'summed': 0.0030704369626321209},\n",
       " {'feats': ['vddwsd'],\n",
       "  'parts': [0.00035910812188369662,\n",
       "   0.00016405064858445375,\n",
       "   0.0024460924940740208,\n",
       "   8.9147523482118851e-05,\n",
       "   5.6129216630497785e-05],\n",
       "  'summed': 0.0031145280046547875},\n",
       " {'feats': ['vxwsd'],\n",
       "  'parts': [0.00074682804503926046,\n",
       "   0.00091878532959237496,\n",
       "   0.00071918385873542487,\n",
       "   0.00042783959212323359,\n",
       "   0.00034914071774988449],\n",
       "  'summed': 0.0031617775432401783},\n",
       " {'feats': ['thwavg'],\n",
       "  'parts': [0.00094323169955380919,\n",
       "   0.00055053867414192983,\n",
       "   0.0010774976705817288,\n",
       "   0.00047481890781362848,\n",
       "   0.00027832165021329287],\n",
       "  'summed': 0.0033244086023043891},\n",
       " {'feats': ['vymax'],\n",
       "  'parts': [0.0011504070039924327,\n",
       "   0.00053274767142402009,\n",
       "   0.00071594150296450251,\n",
       "   0.00084636132374505508,\n",
       "   0.00041458182014732621],\n",
       "  'summed': 0.0036600393222733364},\n",
       " {'feats': ['thmin'],\n",
       "  'parts': [0.0018343124473410553,\n",
       "   0.00073630625529519215,\n",
       "   0.00029834459134070885,\n",
       "   0.00026240467223531666,\n",
       "   0.00071869655011339852],\n",
       "  'summed': 0.0038500645163256717},\n",
       " {'feats': ['vdmax'],\n",
       "  'parts': [0.000494927060643219,\n",
       "   0.00031664725860963851,\n",
       "   0.0027920322534239796,\n",
       "   0.00023764663915836406,\n",
       "   0.00020841665615525069],\n",
       "  'summed': 0.0040496698679904517},\n",
       " {'feats': ['vxmax'],\n",
       "  'parts': [0.0010868502034361777,\n",
       "   0.00049133560990825885,\n",
       "   0.0029028268738889003,\n",
       "   5.6296208442602301e-05,\n",
       "   6.7797990990037184e-05],\n",
       "  'summed': 0.0046051068866659771},\n",
       " {'feats': ['vddrange'],\n",
       "  'parts': [0.0020156423783693135,\n",
       "   0.00026147424803588793,\n",
       "   0.0033816563824882917,\n",
       "   0.00024387073285957829,\n",
       "   0.00011168321634281138],\n",
       "  'summed': 0.0060143269580958825},\n",
       " {'feats': ['cwavg'],\n",
       "  'parts': [0.0011373520112071143,\n",
       "   0.00062290248557810089,\n",
       "   0.0022426171222839596,\n",
       "   0.00084588901077303584,\n",
       "   0.0028094229547564885],\n",
       "  'summed': 0.0076581835845986983},\n",
       " {'feats': ['vddavg'],\n",
       "  'parts': [0.0060496721759242629,\n",
       "   0.00029774500987409078,\n",
       "   0.0023578170436214627,\n",
       "   0.0013441078334448825,\n",
       "   0.00012358309975685596],\n",
       "  'summed': 0.010172925162621554},\n",
       " {'feats': ['vddmax'],\n",
       "  'parts': [0.0063664429388527351,\n",
       "   0.00066182992961729499,\n",
       "   0.0036822876451910679,\n",
       "   0.002709918184072002,\n",
       "   0.00011350696606886292],\n",
       "  'summed': 0.013533985663801963},\n",
       " {'feats': ['csmin'],\n",
       "  'parts': [3.0773039253859073e-05,\n",
       "   0.0010143064462550205,\n",
       "   0.0041291562652173161,\n",
       "   0.0029076035218846192,\n",
       "   0.011426947694569889],\n",
       "  'summed': 0.019508786967180704},\n",
       " {'feats': ['wmin'],\n",
       "  'parts': [5.6192216370797933e-05,\n",
       "   0.002044889425781593,\n",
       "   0.0025348021950693813,\n",
       "   0.0004331440493153567,\n",
       "   0.016028824495686125],\n",
       "  'summed': 0.021097852382223253},\n",
       " {'feats': ['straight'],\n",
       "  'parts': [0.0050666322204845973,\n",
       "   0.028712555149572598,\n",
       "   0.0057815369862124514,\n",
       "   0.0066595059757754236,\n",
       "   0.0056980335165329752],\n",
       "  'summed': 0.05191826384857804}]"
      ]
     },
     "execution_count": 14,
     "metadata": {},
     "output_type": "execute_result"
    }
   ],
   "source": [
    "ann.CompareParzenMethod.rate_1feat_selfsim(datasrc)"
   ]
  },
  {
   "cell_type": "code",
   "execution_count": 70,
   "metadata": {
    "collapsed": true
   },
   "outputs": [
    {
     "name": "stdout",
     "output_type": "stream",
     "text": [
      "Automatic pdb calling has been turned ON\n",
      ". . . . . . . . . . . . . . . . . . . . . . . . . . . . . . . . . . . . . . . . . . . . . . . . . . . . . . . . . . . . . . . . . . . . . . . . . . . . . . . . . . . . . . . . . . . . . . . . . . . . . . . . . . . . . . . . . . . . . . . . . . . . . . . . . . . . . . . . . . . . . . . . . . . . . . . . . . . . . . . . . . . . . . . . . . . . . . . . . . . . . . . . . . . . . . . . . . . . . . . . . . . . . . . . . . . . . . . . . . . . . . . . . . . . . . . . . . . . . . . . . . . . . . . . . . . . . . . . . . . . . . . . . . . . . . . . . . . . . . . . . . . . . . . . . . . . . . . . . . . . . . . . . . . . . . . . . . . . . . . . . . . . . . . . . . . . . . . . . . . . . . . . . . . . . . . . . . . . . . . . . . . . . . . . . . . . . . . . . . . . . . . . . . . . . . . . . . . . . . . . . . . . . . . . . . . . . . . . . . . . . . . . . . . . . . . . . . . . . . . . . . . . . . . . . . . . . . . . . . . . . . . . . . . . . . . . . . . . . . . . . . . . . . . . . . . . . . . . . . . . done\n"
     ]
    }
   ],
   "source": [
    "reload(ann)\n",
    "%pdb on\n",
    "ofs = ann.OrigFeatureSelection(csdsg)\n",
    "rsel_feats = ofs.random_feature_selection()"
   ]
  },
  {
   "cell_type": "code",
   "execution_count": 77,
   "metadata": {
    "collapsed": false
   },
   "outputs": [
    {
     "name": "stdout",
     "output_type": "stream",
     "text": [
      "['thsd', 'cdavg', 'cavg', 'dur', 'thmin']\n",
      "['cdrange', 'vmin', 'csrange', 'vysd', 'wrange']\n",
      "['vyrange', 'vxrange', 'wrange', 'cmin', 'wavg']\n",
      "['wwsd', 'cdsd', 'cmax', 'wsd']\n",
      "['wwavg', 'thsd', 'vwavg', 'cswsd', 'vxwsd']\n"
     ]
    }
   ],
   "source": [
    "for ix in range(5):\n",
    "    print rsel_feats[ix].h\n",
    "    ann.ParzenMethod.show_match(rsel_feats[ix].match_d)"
   ]
  },
  {
   "cell_type": "code",
   "execution_count": 74,
   "metadata": {
    "collapsed": true
   },
   "outputs": [],
   "source": [
    "g_rsel_feats.append(rsel_feats)"
   ]
  },
  {
   "cell_type": "code",
   "execution_count": 23,
   "metadata": {
    "collapsed": false
   },
   "outputs": [
    {
     "name": "stdout",
     "output_type": "stream",
     "text": [
      "[[ 0  0  0 10 10]\n",
      " [ 0  1  1  1  1]\n",
      " [ 1  1  1  0  1]\n",
      " [ 0  1  1  1  1]\n",
      " [ 1  1  1  0  1]]\n",
      "{'a': {'a': 0, 'b': 0, 'c': 0, 'd': 10, 'e': 10},\n",
      " 'b': {'a': 0, 'b': 1, 'c': 1, 'd': 1, 'e': 1},\n",
      " 'c': {'a': 1, 'b': 1, 'c': 1, 'd': 0, 'e': 1},\n",
      " 'd': {'a': 0, 'b': 1, 'c': 1, 'd': 1, 'e': 1},\n",
      " 'e': {'a': 1, 'b': 1, 'c': 1, 'd': 0, 'e': 1}}\n",
      "5.0 0.8 10.0\n"
     ]
    },
    {
     "data": {
      "text/plain": [
       "2.8800000000000008"
      ]
     },
     "execution_count": 23,
     "metadata": {},
     "output_type": "execute_result"
    }
   ],
   "source": [
    "reload(ann)\n",
    "match_a = np.array([[0, 0, 0, 10, 10], [0, 1, 1, 1, 1], [1, 1, 1, 0, 1], [0, 1, 1, 1, 1], [1, 1, 1, 0, 1]])\n",
    "print match_a\n",
    "\n",
    "k = 'abcde'\n",
    "match_d = {k[ix]: {k[iy]: y for iy,y in enumerate(x)} for ix,x in enumerate(match_a)}\n",
    "pprint.pprint(match_d)\n",
    "ann.ParzenMethod.eval_match(match_d)"
   ]
  },
  {
   "cell_type": "code",
   "execution_count": null,
   "metadata": {
    "collapsed": true
   },
   "outputs": [],
   "source": [
    "[{'feats': ['vavg'],\n",
    " 'parts': [0.0012796159339736621,\n",
    "           0.0030700202936918743,\n",
    "           0.0037978666261953152,\n",
    "           0.0002612882293354484,\n",
    "           0.00051464953892503518],\n",
    " 'summed': 0.0089234406221213348},\n",
    "{'feats': ['crange'],\n",
    " 'parts': [0.0013016309130252826,\n",
    "           0.0015462429393624981,\n",
    "           0.0028839328230908564,\n",
    "           0.0015857048827790027,\n",
    "           0.0014500555792393605],\n",
    " 'summed': 0.0087675671374970003},\n",
    "{'feats': ['cssd'],\n",
    " 'parts': [0.00033561964956469977,\n",
    "           0.00086417927821412,\n",
    "           0.00061607962108844441,\n",
    "           0.00074155715891304874,\n",
    "           0.00034713517642266477],\n",
    " 'summed': 0.0029045708842029777}\n",
    " \n",
    "#-----    22 D   -----\n",
    "{'feats': ['vavg', 'crange'],\n",
    " 'parts': [0.00024390878713818163,\n",
    "           0.0004055384137219876,\n",
    "           0.00043779400484167592,\n",
    "           0.00041045469161977836,\n",
    "           0.00020268901740266783],\n",
    " 'summed': 0.0017003849147242914},\n",
    "{'feats': ['vavg', 'cssd'],\n",
    " 'parts': [0.0001768264513628896,\n",
    "           0.00034235391690630825,\n",
    "           0.00044826541087464094,\n",
    "           0.00029003198615424762,\n",
    "           0.00017481924914293824],\n",
    " 'summed': 0.0014322970144410247},\n",
    " \n",
    "{'feats': ['vavg', 'crange', 'cssd'],\n",
    " 'parts': [0.00011503157070585703,\n",
    "           0.00014321155580360488,\n",
    "           0.00019852684098338195,\n",
    "           0.00018480098616087078,\n",
    "           0.0001318504707021757],\n",
    " 'summed': 0.00077342142435589032}]\n",
    " "
   ]
  },
  {
   "cell_type": "code",
   "execution_count": 157,
   "metadata": {
    "collapsed": false,
    "scrolled": true
   },
   "outputs": [
    {
     "name": "stdout",
     "output_type": "stream",
     "text": [
      "Automatic pdb calling has been turned ON\n"
     ]
    }
   ],
   "source": [
    "%pdb"
   ]
  },
  {
   "cell_type": "code",
   "execution_count": 340,
   "metadata": {
    "collapsed": false
   },
   "outputs": [],
   "source": [
    "# PCA KDE plot\n",
    "reload(ann)\n",
    "sg = ann.SplitGrid(pca[0].users_projected, pca[1].users_projected, ann.KdePlot())\n",
    "sg.plot_all()"
   ]
  },
  {
   "cell_type": "markdown",
   "metadata": {},
   "source": [
    "# HiAction pauses analysis"
   ]
  },
  {
   "cell_type": "code",
   "execution_count": null,
   "metadata": {
    "collapsed": false
   },
   "outputs": [],
   "source": [
    "\n",
    "Bins = np.linspace(0, 1, 25)\n",
    "plt.hist(csdsg.all_data['PaC_ttc'], alpha=0.3, bins=Bins)\n",
    "plt.hist(csdsg.all_data['sess_data'][0]['ttc'], alpha=0.4, bins=Bins)\n"
   ]
  },
  {
   "cell_type": "code",
   "execution_count": 244,
   "metadata": {
    "collapsed": false
   },
   "outputs": [
    {
     "name": "stdout",
     "output_type": "stream",
     "text": [
      "{1424664435: 74,\n",
      " 1424767500: 120,\n",
      " 1424770997: 90,\n",
      " 1428470230: 122,\n",
      " 1428883647: 92}\n",
      "{1424664435: 75,\n",
      " 1424767500: 120,\n",
      " 1424770997: 91,\n",
      " 1428470230: 122,\n",
      " 1428883647: 92}\n",
      "{1424664435: 149,\n",
      " 1424767500: 240,\n",
      " 1424770997: 181,\n",
      " 1428470230: 244,\n",
      " 1428883647: 184}\n"
     ]
    }
   ],
   "source": [
    "'''\n",
    "print ann.p_stats(csdsg.first['PaC_ttc'])\n",
    "print ann.p_stats(csdsg.second['PaC_ttc'])\n",
    "print ann.p_stats(csdsg.all_data['PaC_ttc'])\n",
    "'''\n",
    "\n",
    "# so this seems to work ok for ttc, hold\n",
    "# not so well for PaC_ttc\n",
    "class TtcHistPlotter(ann.KdePlot):\n",
    "    def __init__(self):\n",
    "        self.Range = [None, None]\n",
    "        \n",
    "    def adjust_range(self, dat):\n",
    "        self.Range[0] = ann.omin([self.Range[0], np.min(dat)])\n",
    "        self.Range[1] = ann.omax([self.Range[1], np.max(dat)])\n",
    "        \n",
    "    def plot(self, dat, ax, opt):\n",
    "        dat = np.array(dat)\n",
    "        Range = list(self.Range)\n",
    "        Range[1] = Range[1] / 15\n",
    "        ax.hist(dat, bins=np.linspace(Range[0], Range[1], 20), normed=True) \n",
    "\n",
    "        \n",
    "def sel_ttc(k, v):\n",
    "    return v['ttc']\n",
    "\n",
    "orig_dat = [\n",
    "    ann.dictmap(sel_ttc, csdsg.first['sess_data']),\n",
    "    ann.dictmap(sel_ttc, csdsg.second['sess_data'])\n",
    "]\n",
    "\n",
    "PaC_dat = [\n",
    "    csdsg.first['PaC_ttc'],\n",
    "    csdsg.second['PaC_ttc']\n",
    "]\n",
    "\n",
    "dat = orig_dat\n",
    "\n",
    "sg = ann.SplitGrid(dat[0], dat[1], TtcHistPlotter())\n",
    "sg.plot_all()"
   ]
  },
  {
   "cell_type": "markdown",
   "metadata": {},
   "source": [
    "# PaC curvature analysis"
   ]
  },
  {
   "cell_type": "code",
   "execution_count": 176,
   "metadata": {
    "collapsed": false
   },
   "outputs": [],
   "source": [
    "df = pd.DataFrame()\n",
    "\n",
    "def concat_all_cs():\n",
    "    for x in PaC_strokes:\n",
    "        for cs in x['cs']:\n",
    "            yield {'cs': cs, 'slabel': x['slabel'], 'sess': x['sess'] }\n",
    "\n",
    "df = pd.DataFrame(concat_all_cs())\n"
   ]
  },
  {
   "cell_type": "code",
   "execution_count": 177,
   "metadata": {
    "collapsed": false,
    "scrolled": true
   },
   "outputs": [],
   "source": [
    "import statsmodels.api as statmodel\n",
    "for sk in csdsg.sessions.keys():\n",
    "    sample = df[df.sess == int(sk)]['cs']\n",
    "    \n",
    "    ecdf = statmodel.distributions.ECDF(sample)\n",
    "    X = np.linspace(sample.min(), sample.max())\n",
    "    Y = ecdf(X)\n",
    "    plt.step(X, Y)\n",
    "    #plt.hist(list(sample), alpha=0.3, bins=np.linspace(df['cs'].min(), df['cs'].max(), 15))"
   ]
  },
  {
   "cell_type": "markdown",
   "metadata": {},
   "source": [
    "# Other stuff"
   ]
  },
  {
   "cell_type": "code",
   "execution_count": 108,
   "metadata": {
    "collapsed": false,
    "scrolled": true
   },
   "outputs": [
    {
     "data": {
      "text/plain": [
       "<matplotlib.collections.PathCollection at 0x12160f310>"
      ]
     },
     "execution_count": 108,
     "metadata": {},
     "output_type": "execute_result"
    }
   ],
   "source": [
    "# velocity vs. stroke length for PaC strokes\n",
    "pcs = PaC_strokes\n",
    "X = [len(x['v']) for x in pcs]\n",
    "Y = [max(x['v']) for x in pcs]\n",
    "C = [x['sess'] for x in pcs]\n",
    "\n",
    "plt.scatter(X, Y, c=C, marker='x')"
   ]
  },
  {
   "cell_type": "code",
   "execution_count": 111,
   "metadata": {
    "collapsed": false,
    "scrolled": true
   },
   "outputs": [],
   "source": [
    "reload(ann)\n",
    "sks = csds2a.all_data['orig'].sk_by_person()\n",
    "dat = [csds2a.all_data['orig'].user(sks['Roman']), csds2a.all_data['orig'].user(sks['Joe'])]\n",
    "allh = ann.AllHistograms(dat)\n",
    "allh.plot()"
   ]
  },
  {
   "cell_type": "code",
   "execution_count": 107,
   "metadata": {
    "collapsed": false,
    "scrolled": false
   },
   "outputs": [
    {
     "name": "stdout",
     "output_type": "stream",
     "text": [
      "PaC 935\n",
      "clicks 1419\n",
      "2clicks 155\n"
     ]
    }
   ],
   "source": [
    "# no of clicks, double clicks and PaC actions\n",
    "print 'PaC', len(PaC_slabels)\n",
    "print 'clicks', sum(sum(i['clicks_pm']) for i in csdsg.all_data['sess_data'])\n",
    "print '2clicks', sum(sum(i['dbl_clicks_pm']) for i in csdsg.all_data['sess_data'])\n"
   ]
  },
  {
   "cell_type": "markdown",
   "metadata": {},
   "source": [
    "# Trying scikit.learn with OrigFeatures, classification"
   ]
  },
  {
   "cell_type": "code",
   "execution_count": 33,
   "metadata": {
    "collapsed": false
   },
   "outputs": [
    {
     "name": "stdout",
     "output_type": "stream",
     "text": [
      "normalized, running classifier\n"
     ]
    },
    {
     "data": {
      "text/plain": [
       "0.26506024096385544"
      ]
     },
     "execution_count": 33,
     "metadata": {},
     "output_type": "execute_result"
    }
   ],
   "source": [
    "reload(ann)\n",
    "skl = ann.OrigFeatureSkL(csdsg.first['orig'].by_slabel(PaC_slabels), csdsg.second['orig'].by_slabel(PaC_slabels))\n",
    "skl.select_columns(['vxmin', 'vxmax', 'vxavg', 'vxsd', 'vxrange', 'vxwavg', 'vxwsd',\n",
    "       'vymin', 'vymax', 'vyavg', 'vysd', 'vyrange', 'vywavg', 'vywsd',\n",
    "       'vmin', 'vmax', 'vavg', 'vsd', 'vrange', 'vwavg', 'vwsd', 'vdmin',\n",
    "       'vdmax', 'vdavg', 'vdsd', 'vdrange', 'vdwavg', 'vdwsd', 'vddmin',\n",
    "       'vddmax', 'vddavg', 'vddsd', 'vddrange', 'vddwavg', 'vddwsd',\n",
    "       'thmin', 'thmax', 'thavg', 'thsd', 'thrange', 'thwavg', 'thwsd',\n",
    "       'wmin', 'wmax', 'wavg', 'wsd', 'wrange', 'wwavg', 'wwsd', 'cmin',\n",
    "       'cmax', 'cavg', 'csd', 'crange', 'cwavg', 'cwsd', 'cdmin', 'cdmax',\n",
    "       'cdavg', 'cdsd', 'cdrange', 'cdwavg', 'cdwsd', 'csmin', 'csmax',\n",
    "       'csavg', 'cssd', 'csrange', 'cswavg', 'cswsd', 's', 'dur'])\n",
    "skl.normalize()\n",
    "print 'normalized, running classifier'\n",
    "skl.run()"
   ]
  },
  {
   "cell_type": "code",
   "execution_count": null,
   "metadata": {
    "collapsed": true
   },
   "outputs": [],
   "source": []
  }
 ],
 "metadata": {
  "celltoolbar": "Raw Cell Format",
  "kernelspec": {
   "display_name": "Python 2",
   "language": "python",
   "name": "python2"
  },
  "language_info": {
   "codemirror_mode": {
    "name": "ipython",
    "version": 2
   },
   "file_extension": ".py",
   "mimetype": "text/x-python",
   "name": "python",
   "nbconvert_exporter": "python",
   "pygments_lexer": "ipython2",
   "version": "2.7.9"
  }
 },
 "nbformat": 4,
 "nbformat_minor": 0
}
